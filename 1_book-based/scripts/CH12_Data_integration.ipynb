{
 "cells": [
  {
   "cell_type": "markdown",
   "id": "61fbeece-7714-4f19-b186-625ccb89afdd",
   "metadata": {},
   "source": [
    "# 12. Data integration"
   ]
  },
  {
   "cell_type": "code",
   "execution_count": 1,
   "id": "beb1189b-7298-4f3f-a5bf-15fb10ddbc4e",
   "metadata": {},
   "outputs": [
    {
     "ename": "TypeError",
     "evalue": "metaclass conflict: the metaclass of a derived class must be a (non-strict) subclass of the metaclasses of all its bases",
     "output_type": "error",
     "traceback": [
      "\u001b[0;31m---------------------------------------------------------------------------\u001b[0m",
      "\u001b[0;31mTypeError\u001b[0m                                 Traceback (most recent call last)",
      "Cell \u001b[0;32mIn[1], line 2\u001b[0m\n\u001b[1;32m      1\u001b[0m \u001b[38;5;66;03m# Python packages\u001b[39;00m\n\u001b[0;32m----> 2\u001b[0m \u001b[38;5;28;01mimport\u001b[39;00m \u001b[38;5;21;01mscanpy\u001b[39;00m \u001b[38;5;28;01mas\u001b[39;00m \u001b[38;5;21;01msc\u001b[39;00m\n\u001b[1;32m      3\u001b[0m \u001b[38;5;28;01mimport\u001b[39;00m \u001b[38;5;21;01mscvi\u001b[39;00m\n\u001b[1;32m      4\u001b[0m \u001b[38;5;28;01mimport\u001b[39;00m \u001b[38;5;21;01mbbknn\u001b[39;00m\n",
      "File \u001b[0;32m~/opt/anaconda3/envs/mamba/envs/scrnaseq-integration/lib/python3.9/site-packages/scanpy/__init__.py:16\u001b[0m\n\u001b[1;32m     14\u001b[0m \u001b[38;5;28;01mfrom\u001b[39;00m \u001b[38;5;21;01m.\u001b[39;00m \u001b[38;5;28;01mimport\u001b[39;00m tools \u001b[38;5;28;01mas\u001b[39;00m tl\n\u001b[1;32m     15\u001b[0m \u001b[38;5;28;01mfrom\u001b[39;00m \u001b[38;5;21;01m.\u001b[39;00m \u001b[38;5;28;01mimport\u001b[39;00m preprocessing \u001b[38;5;28;01mas\u001b[39;00m pp\n\u001b[0;32m---> 16\u001b[0m \u001b[38;5;28;01mfrom\u001b[39;00m \u001b[38;5;21;01m.\u001b[39;00m \u001b[38;5;28;01mimport\u001b[39;00m plotting \u001b[38;5;28;01mas\u001b[39;00m pl\n\u001b[1;32m     17\u001b[0m \u001b[38;5;28;01mfrom\u001b[39;00m \u001b[38;5;21;01m.\u001b[39;00m \u001b[38;5;28;01mimport\u001b[39;00m datasets, logging, queries, external, get, metrics, experimental\n\u001b[1;32m     19\u001b[0m \u001b[38;5;28;01mfrom\u001b[39;00m \u001b[38;5;21;01manndata\u001b[39;00m \u001b[38;5;28;01mimport\u001b[39;00m AnnData, concat\n",
      "File \u001b[0;32m~/opt/anaconda3/envs/mamba/envs/scrnaseq-integration/lib/python3.9/site-packages/scanpy/plotting/__init__.py:1\u001b[0m\n\u001b[0;32m----> 1\u001b[0m \u001b[38;5;28;01mfrom\u001b[39;00m \u001b[38;5;21;01m.\u001b[39;00m\u001b[38;5;21;01m_anndata\u001b[39;00m \u001b[38;5;28;01mimport\u001b[39;00m (\n\u001b[1;32m      2\u001b[0m     scatter,\n\u001b[1;32m      3\u001b[0m     violin,\n\u001b[1;32m      4\u001b[0m     ranking,\n\u001b[1;32m      5\u001b[0m     clustermap,\n\u001b[1;32m      6\u001b[0m     tracksplot,\n\u001b[1;32m      7\u001b[0m     dendrogram,\n\u001b[1;32m      8\u001b[0m     correlation_matrix,\n\u001b[1;32m      9\u001b[0m     heatmap,\n\u001b[1;32m     10\u001b[0m )\n\u001b[1;32m     11\u001b[0m \u001b[38;5;28;01mfrom\u001b[39;00m \u001b[38;5;21;01m.\u001b[39;00m\u001b[38;5;21;01m_dotplot\u001b[39;00m \u001b[38;5;28;01mimport\u001b[39;00m DotPlot, dotplot\n\u001b[1;32m     12\u001b[0m \u001b[38;5;28;01mfrom\u001b[39;00m \u001b[38;5;21;01m.\u001b[39;00m\u001b[38;5;21;01m_matrixplot\u001b[39;00m \u001b[38;5;28;01mimport\u001b[39;00m MatrixPlot, matrixplot\n",
      "File \u001b[0;32m~/opt/anaconda3/envs/mamba/envs/scrnaseq-integration/lib/python3.9/site-packages/scanpy/plotting/_anndata.py:28\u001b[0m\n\u001b[1;32m     26\u001b[0m \u001b[38;5;28;01mfrom\u001b[39;00m \u001b[38;5;21;01m.\u001b[39;00m\u001b[38;5;21;01m.\u001b[39;00m\u001b[38;5;21;01m_utils\u001b[39;00m \u001b[38;5;28;01mimport\u001b[39;00m sanitize_anndata, _doc_params, _check_use_raw\n\u001b[1;32m     27\u001b[0m \u001b[38;5;28;01mfrom\u001b[39;00m \u001b[38;5;21;01m.\u001b[39;00m\u001b[38;5;21;01m.\u001b[39;00m\u001b[38;5;21;01m_compat\u001b[39;00m \u001b[38;5;28;01mimport\u001b[39;00m Literal\n\u001b[0;32m---> 28\u001b[0m \u001b[38;5;28;01mfrom\u001b[39;00m \u001b[38;5;21;01m.\u001b[39;00m \u001b[38;5;28;01mimport\u001b[39;00m _utils\n\u001b[1;32m     29\u001b[0m \u001b[38;5;28;01mfrom\u001b[39;00m \u001b[38;5;21;01m.\u001b[39;00m\u001b[38;5;21;01m_utils\u001b[39;00m \u001b[38;5;28;01mimport\u001b[39;00m scatter_base, scatter_group, setup_axes, check_colornorm\n\u001b[1;32m     30\u001b[0m \u001b[38;5;28;01mfrom\u001b[39;00m \u001b[38;5;21;01m.\u001b[39;00m\u001b[38;5;21;01m_utils\u001b[39;00m \u001b[38;5;28;01mimport\u001b[39;00m ColorLike, _FontWeight, _FontSize\n",
      "File \u001b[0;32m~/opt/anaconda3/envs/mamba/envs/scrnaseq-integration/lib/python3.9/site-packages/scanpy/plotting/_utils.py:35\u001b[0m\n\u001b[1;32m     29\u001b[0m _FontSize \u001b[38;5;241m=\u001b[39m Literal[\n\u001b[1;32m     30\u001b[0m     \u001b[38;5;124m'\u001b[39m\u001b[38;5;124mxx-small\u001b[39m\u001b[38;5;124m'\u001b[39m, \u001b[38;5;124m'\u001b[39m\u001b[38;5;124mx-small\u001b[39m\u001b[38;5;124m'\u001b[39m, \u001b[38;5;124m'\u001b[39m\u001b[38;5;124msmall\u001b[39m\u001b[38;5;124m'\u001b[39m, \u001b[38;5;124m'\u001b[39m\u001b[38;5;124mmedium\u001b[39m\u001b[38;5;124m'\u001b[39m, \u001b[38;5;124m'\u001b[39m\u001b[38;5;124mlarge\u001b[39m\u001b[38;5;124m'\u001b[39m, \u001b[38;5;124m'\u001b[39m\u001b[38;5;124mx-large\u001b[39m\u001b[38;5;124m'\u001b[39m, \u001b[38;5;124m'\u001b[39m\u001b[38;5;124mxx-large\u001b[39m\u001b[38;5;124m'\u001b[39m\n\u001b[1;32m     31\u001b[0m ]\n\u001b[1;32m     32\u001b[0m VBound \u001b[38;5;241m=\u001b[39m Union[\u001b[38;5;28mstr\u001b[39m, \u001b[38;5;28mfloat\u001b[39m, Callable[[Sequence[\u001b[38;5;28mfloat\u001b[39m]], \u001b[38;5;28mfloat\u001b[39m]]\n\u001b[0;32m---> 35\u001b[0m \u001b[38;5;28;01mclass\u001b[39;00m \u001b[38;5;21;01m_AxesSubplot\u001b[39;00m(Axes, axes\u001b[38;5;241m.\u001b[39mSubplotBase, ABC):\n\u001b[1;32m     36\u001b[0m \u001b[38;5;250m    \u001b[39m\u001b[38;5;124;03m\"\"\"Intersection between Axes and SubplotBase: Has methods of both\"\"\"\u001b[39;00m\n\u001b[1;32m     39\u001b[0m \u001b[38;5;66;03m# -------------------------------------------------------------------------------\u001b[39;00m\n\u001b[1;32m     40\u001b[0m \u001b[38;5;66;03m# Simple plotting functions\u001b[39;00m\n\u001b[1;32m     41\u001b[0m \u001b[38;5;66;03m# -------------------------------------------------------------------------------\u001b[39;00m\n",
      "\u001b[0;31mTypeError\u001b[0m: metaclass conflict: the metaclass of a derived class must be a (non-strict) subclass of the metaclasses of all its bases"
     ]
    }
   ],
   "source": [
    "# Python packages\n",
    "import scanpy as sc\n",
    "import scvi\n",
    "import bbknn\n",
    "import scib\n",
    "import numpy as np\n",
    "import pandas as pd\n",
    "import matplotlib.pyplot as plt\n",
    "import matplotlib\n",
    "\n",
    "# R interface\n",
    "from rpy2.robjects import pandas2ri\n",
    "from rpy2.robjects import r\n",
    "import rpy2.rinterface_lib.callbacks\n",
    "import anndata2ri\n",
    "\n",
    "pandas2ri.activate()\n",
    "anndata2ri.activate()\n",
    "\n",
    "%load_ext rpy2.ipython"
   ]
  },
  {
   "cell_type": "code",
   "execution_count": null,
   "id": "f5dba584-6027-4419-8677-2dec0b032d8e",
   "metadata": {},
   "outputs": [],
   "source": [
    "%%R\n",
    "# R packages\n",
    "library(Seurat)"
   ]
  },
  {
   "cell_type": "code",
   "execution_count": null,
   "id": "bee8ca7c-138a-498e-8248-5139a9834a7d",
   "metadata": {},
   "outputs": [],
   "source": [
    "adata_raw = sc.read_h5ad(\n",
    "    \"/Users/adrian/General_projects/workflows-scrna/0_outs/GSE194122_openproblems_neurips2021_cite_BMMC_processed.h5ad\"\n",
    ")\n",
    "adata_raw.layers[\"logcounts\"] = adata_raw.X\n",
    "adata_raw"
   ]
  },
  {
   "cell_type": "code",
   "execution_count": null,
   "id": "f6c0f47b-7fe5-411e-a430-ebe09934f2d5",
   "metadata": {},
   "outputs": [],
   "source": [
    "label_key = \"cell_type\"\n",
    "batch_key = \"batch\""
   ]
  },
  {
   "cell_type": "code",
   "execution_count": null,
   "id": "e354f251-9518-4688-89a6-e8ecb7736ab5",
   "metadata": {},
   "outputs": [],
   "source": [
    "adata_raw.obs[batch_key].value_counts()"
   ]
  },
  {
   "cell_type": "code",
   "execution_count": null,
   "id": "7ee9e8e3-0b81-4f8d-bcf1-8c850a815f8f",
   "metadata": {},
   "outputs": [],
   "source": [
    "keep_batches = [\"s1d3\", \"s2d1\", \"s3d7\"]\n",
    "adata = adata_raw[adata_raw.obs[batch_key].isin(keep_batches)].copy()\n",
    "adata"
   ]
  },
  {
   "cell_type": "code",
   "execution_count": null,
   "id": "c78f7da5-cda5-451c-8fa8-c62a1484448b",
   "metadata": {},
   "outputs": [],
   "source": [
    "adata.var[\"feature_types\"].value_counts()"
   ]
  },
  {
   "cell_type": "code",
   "execution_count": null,
   "id": "3cf0b33f-4b4a-4e84-a1d5-40526e149741",
   "metadata": {},
   "outputs": [],
   "source": [
    "adata = adata[:, adata.var[\"feature_types\"] == \"GEX\"].copy()\n",
    "sc.pp.filter_genes(adata, min_cells=1)\n",
    "adata"
   ]
  },
  {
   "cell_type": "code",
   "execution_count": null,
   "id": "93911b28-cc5d-4570-ba41-b3fa000780d0",
   "metadata": {},
   "outputs": [],
   "source": [
    "adata.X = adata.layers[\"counts\"].copy()\n",
    "sc.pp.normalize_total(adata)\n",
    "sc.pp.log1p(adata)\n",
    "adata.layers[\"logcounts\"] = adata.X.copy()"
   ]
  },
  {
   "cell_type": "code",
   "execution_count": null,
   "id": "5efde877-f05b-4784-9893-096eff12f157",
   "metadata": {},
   "outputs": [],
   "source": [
    "sc.pp.highly_variable_genes(adata)\n",
    "sc.tl.pca(adata)\n",
    "sc.pp.neighbors(adata)\n",
    "sc.tl.umap(adata)\n",
    "adata"
   ]
  },
  {
   "cell_type": "code",
   "execution_count": null,
   "id": "d78fcae5-c273-40c2-8998-d41552e85be1",
   "metadata": {},
   "outputs": [],
   "source": [
    "adata.uns[batch_key + \"_colors\"] = [\n",
    "    \"#1b9e77\",\n",
    "    \"#d95f02\",\n",
    "    \"#7570b3\",\n",
    "]  # Set custom colours for batches\n",
    "sc.pl.umap(adata, color=[label_key, batch_key], wspace=1)"
   ]
  },
  {
   "cell_type": "code",
   "execution_count": null,
   "id": "a810bccb-0f52-438c-a7a8-6cd424ac22c5",
   "metadata": {},
   "outputs": [],
   "source": [
    "sc.pp.highly_variable_genes(\n",
    "    adata, n_top_genes=2000, flavor=\"cell_ranger\", batch_key=batch_key\n",
    ")\n",
    "adata\n",
    "adata.var"
   ]
  },
  {
   "cell_type": "code",
   "execution_count": null,
   "id": "c693b7cb-b92f-49cc-851d-2b9868bcf9c9",
   "metadata": {},
   "outputs": [],
   "source": [
    "n_batches = adata.var[\"highly_variable_nbatches\"].value_counts()\n",
    "ax = n_batches.plot(kind=\"bar\")\n",
    "n_batches"
   ]
  },
  {
   "cell_type": "code",
   "execution_count": null,
   "id": "8096416c-ba5a-40f7-991e-524bc3625f1c",
   "metadata": {},
   "outputs": [],
   "source": [
    "adata_hvg = adata[:, adata.var[\"highly_variable\"]].copy()\n",
    "adata_hvg"
   ]
  },
  {
   "cell_type": "code",
   "execution_count": null,
   "id": "00e300d1-3105-4cc4-92ad-a516dbcf01ec",
   "metadata": {},
   "outputs": [],
   "source": [
    "adata_scvi = adata_hvg.copy()"
   ]
  },
  {
   "cell_type": "code",
   "execution_count": null,
   "id": "2351ca8b-4382-448d-afb5-d0d57dd9b763",
   "metadata": {},
   "outputs": [],
   "source": [
    "scvi.model.SCVI.setup_anndata(adata_scvi, layer=\"counts\", batch_key=batch_key)\n",
    "adata_scvi"
   ]
  },
  {
   "cell_type": "code",
   "execution_count": null,
   "id": "82166da7-d3ac-4adf-b194-6762c7c30f02",
   "metadata": {},
   "outputs": [],
   "source": []
  }
 ],
 "metadata": {
  "kernelspec": {
   "display_name": "Python 3 (ipykernel)",
   "language": "python",
   "name": "python3"
  },
  "language_info": {
   "codemirror_mode": {
    "name": "ipython",
    "version": 3
   },
   "file_extension": ".py",
   "mimetype": "text/x-python",
   "name": "python",
   "nbconvert_exporter": "python",
   "pygments_lexer": "ipython3",
   "version": "3.9.15"
  }
 },
 "nbformat": 4,
 "nbformat_minor": 5
}
