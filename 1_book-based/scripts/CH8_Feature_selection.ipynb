{
 "cells": [
  {
   "cell_type": "markdown",
   "id": "2c7aebfb-79c2-4493-813f-9a7a4c94220f",
   "metadata": {},
   "source": [
    "# 8. Feature selection"
   ]
  },
  {
   "cell_type": "code",
   "execution_count": 1,
   "id": "c527e471-0129-4538-8bd6-680e7a7837e5",
   "metadata": {},
   "outputs": [],
   "source": [
    "import scanpy as sc\n",
    "import anndata2ri\n",
    "import logging\n",
    "import numpy as np\n",
    "\n",
    "import rpy2.rinterface_lib.callbacks as rcb\n",
    "import rpy2.robjects as ro\n",
    "\n",
    "sc.settings.verbosity = 0\n",
    "sc.settings.set_figure_params(\n",
    "    dpi=80,\n",
    "    facecolor=\"white\",\n",
    "    frameon=False,\n",
    ")\n",
    "\n",
    "rcb.logger.setLevel(logging.ERROR)\n",
    "ro.pandas2ri.activate()\n",
    "anndata2ri.activate()\n",
    "\n",
    "%load_ext rpy2.ipython"
   ]
  },
  {
   "cell_type": "code",
   "execution_count": 3,
   "id": "156093f1-3ee7-48d0-b92b-a65bb2077b7c",
   "metadata": {},
   "outputs": [
    {
     "name": "stdout",
     "output_type": "stream",
     "text": [
      "\n",
      "Pobrane pakiety binarne są w\n",
      "\t/var/folders/x1/7112ysln0nl2vyr99j1nllf40000gp/T//Rtmp6cQkdg/downloaded_packages\n"
     ]
    }
   ],
   "source": [
    "%%R\n",
    "BiocManager::install(\"scry\", update = FALSE)\n",
    "library(scry)"
   ]
  },
  {
   "cell_type": "code",
   "execution_count": 4,
   "id": "386893e5-a55a-4e13-9619-f98a961feb27",
   "metadata": {},
   "outputs": [],
   "source": [
    "adata = sc.read(\n",
    "    '../../0_outs/sample-SRR15058452/SRR15058452_normalization.h5ad'\n",
    ")"
   ]
  },
  {
   "cell_type": "code",
   "execution_count": 5,
   "id": "4a556302-4653-4ae4-9a76-d228405d01e6",
   "metadata": {},
   "outputs": [],
   "source": [
    "ro.globalenv[\"adata\"] = adata"
   ]
  },
  {
   "cell_type": "code",
   "execution_count": 6,
   "id": "482ac36b-f5a9-47c4-aa6e-4d54efce93b8",
   "metadata": {},
   "outputs": [
    {
     "name": "stderr",
     "output_type": "stream",
     "text": [
      "/Users/adrian/opt/anaconda3/envs/mamba/envs/simpleaf/lib/python3.10/site-packages/anndata2ri/r2py.py:106: FutureWarning: X.dtype being converted to np.float32 from float64. In the next version of anndata (0.9) conversion will not be automatic. Pass dtype explicitly to avoid this warning. Pass `AnnData(X, dtype=X.dtype, ...)` to get the future behavour.\n",
      "  return AnnData(exprs, obs, var, uns, obsm or None, layers=layers)\n"
     ]
    }
   ],
   "source": [
    "%%R\n",
    "sce = devianceFeatureSelection(adata, assay=\"X\")"
   ]
  },
  {
   "cell_type": "code",
   "execution_count": 7,
   "id": "e2a90f5f-0c03-464c-92f6-7612b3937614",
   "metadata": {},
   "outputs": [],
   "source": [
    "binomial_deviance = ro.r(\"rowData(sce)$binomial_deviance\").T"
   ]
  },
  {
   "cell_type": "code",
   "execution_count": 8,
   "id": "c77174ee-4ced-4462-afac-eceae3bea4d8",
   "metadata": {},
   "outputs": [],
   "source": [
    "idx = binomial_deviance.argsort()[-4000:]\n",
    "mask = np.zeros(adata.var_names.shape, dtype=bool)\n",
    "mask[idx] = True\n",
    "\n",
    "adata.var[\"highly_deviant\"] = mask\n",
    "adata.var[\"binomial_deviance\"] = binomial_deviance"
   ]
  },
  {
   "cell_type": "code",
   "execution_count": 9,
   "id": "9fb90e37-750d-4e63-a686-1ef4fe2c4c66",
   "metadata": {},
   "outputs": [],
   "source": [
    "adata.write(\"../../0_outs/sample-SRR15058452/SRR15058452_feature_selection.h5ad\")"
   ]
  },
  {
   "cell_type": "code",
   "execution_count": null,
   "id": "8f0d7879-7443-47cd-a738-ccd83865e654",
   "metadata": {},
   "outputs": [],
   "source": []
  }
 ],
 "metadata": {
  "kernelspec": {
   "display_name": "Python 3 (ipykernel)",
   "language": "python",
   "name": "python3"
  },
  "language_info": {
   "codemirror_mode": {
    "name": "ipython",
    "version": 3
   },
   "file_extension": ".py",
   "mimetype": "text/x-python",
   "name": "python",
   "nbconvert_exporter": "python",
   "pygments_lexer": "ipython3",
   "version": "3.10.10"
  }
 },
 "nbformat": 4,
 "nbformat_minor": 5
}
